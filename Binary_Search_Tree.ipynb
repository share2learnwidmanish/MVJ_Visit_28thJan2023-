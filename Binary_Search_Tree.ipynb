{
 "cells": [
  {
   "cell_type": "markdown",
   "id": "2009748f",
   "metadata": {},
   "source": [
    "## Create a class object to represent Node.\n",
    "- Node will have 3 properties Key/Data, left reference, right reference "
   ]
  },
  {
   "cell_type": "code",
   "execution_count": 4,
   "id": "3a6d7bab",
   "metadata": {},
   "outputs": [],
   "source": [
    "class BST: \n",
    "    def __init__(self,key):\n",
    "        self.key = key \n",
    "        self.lchild = None\n",
    "        self.rchild = None       "
   ]
  },
  {
   "cell_type": "code",
   "execution_count": 8,
   "id": "901cd645",
   "metadata": {},
   "outputs": [
    {
     "name": "stdout",
     "output_type": "stream",
     "text": [
      "10\n",
      "None\n",
      "None\n"
     ]
    }
   ],
   "source": [
    "root = BST(10)\n",
    "print(root.key)\n",
    "print(root.lchild)\n",
    "print(root.rchild)"
   ]
  },
  {
   "cell_type": "code",
   "execution_count": 9,
   "id": "df854eaa",
   "metadata": {},
   "outputs": [
    {
     "name": "stdout",
     "output_type": "stream",
     "text": [
      "5\n",
      "None\n",
      "None\n"
     ]
    }
   ],
   "source": [
    "root.lchild = BST(5)\n",
    "print(root.lchild.key)\n",
    "print(root.lchild.lchild)\n",
    "print(root.lchild.lchild)"
   ]
  },
  {
   "cell_type": "markdown",
   "id": "c857dca3",
   "metadata": {},
   "source": [
    "### Insertion Operation in Binary search Tree\n",
    "- Preconditions \n",
    "    1. Tree is empty ? Yes OR NO <br>\n",
    "    YES:\n",
    "        1. This is the first node<br>\n",
    "    NO:\n",
    "        1. Find the position of the new node  -> Left or right \n",
    "        "
   ]
  },
  {
   "cell_type": "code",
   "execution_count": null,
   "id": "ed3db4db",
   "metadata": {},
   "outputs": [],
   "source": [
    "class smart_BST: \n",
    "    def __init__(self,key):\n",
    "        self.key = key \n",
    "        self.lchild = None\n",
    "        self.rchild = None  \n",
    "    \n",
    "    def insert(self, data):\n",
    "        ''' Check if the Tree is empty, if key is None we can assume tree is empty '''\n",
    "        if self.key is None:\n",
    "            self.key = data\n",
    "            return\n",
    "        # Tree is not empty\n",
    "        if self.key > data\n",
    "        else \n",
    "        "
   ]
  }
 ],
 "metadata": {
  "kernelspec": {
   "display_name": "Python 3",
   "language": "python",
   "name": "python3"
  },
  "language_info": {
   "codemirror_mode": {
    "name": "ipython",
    "version": 3
   },
   "file_extension": ".py",
   "mimetype": "text/x-python",
   "name": "python",
   "nbconvert_exporter": "python",
   "pygments_lexer": "ipython3",
   "version": "3.8.8"
  }
 },
 "nbformat": 4,
 "nbformat_minor": 5
}
